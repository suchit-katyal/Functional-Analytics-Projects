{
 "cells": [
  {
   "cell_type": "code",
   "execution_count": 1,
   "id": "0d34fb42",
   "metadata": {},
   "outputs": [],
   "source": [
    "# 1.0 Call libraries\n",
    "#%reset -f\n",
    "import numpy as np\n",
    "\n",
    "# 1.1 Import module imdb & other keras modules\n",
    "import tensorflow as tf\n",
    "from tensorflow.keras.datasets import imdb\n",
    "\n",
    "# 1.2 API to manipulate sequences of words\n",
    "from tensorflow.keras.preprocessing import sequence\n",
    "from tensorflow.keras.models import Sequential\n",
    "from keras.preprocessing.text import Tokenizer\n",
    "\n",
    "\n",
    "# 1.3 We will have three types of layers.\n",
    "from tensorflow.keras.layers import Embedding, SimpleRNN, Dense\n",
    "\n",
    "# 1.4 Misc\n",
    "import matplotlib.pyplot as plt\n",
    "import time\n",
    "import io\n",
    "import re"
   ]
  },
  {
   "cell_type": "markdown",
   "id": "85e85e3f",
   "metadata": {},
   "source": [
    "# Sentiment analysis of commodity news"
   ]
  },
  {
   "cell_type": "code",
   "execution_count": 2,
   "id": "fb851d2a",
   "metadata": {},
   "outputs": [],
   "source": [
    "# 1.5 Display multiple commands output from a cell\n",
    "from IPython.core.interactiveshell import InteractiveShell\n",
    "InteractiveShell.ast_node_interactivity = \"all\""
   ]
  },
  {
   "cell_type": "code",
   "execution_count": 3,
   "id": "421c7d1b",
   "metadata": {},
   "outputs": [],
   "source": [
    "# 2.1 Define some constants:\n",
    "\n",
    "max_vocabulary = 10000        # words\n",
    "max_len_review = 140        # words"
   ]
  },
  {
   "cell_type": "code",
   "execution_count": 4,
   "id": "2f804c6e",
   "metadata": {},
   "outputs": [],
   "source": [
    "# reading data\n",
    "import pandas as pd\n",
    "df = pd.read_csv(\"C:\\\\Users\\\\Suchit Katyal\\\\Desktop\\\\commodity news.csv\")\n",
    "\n"
   ]
  },
  {
   "cell_type": "code",
   "execution_count": 5,
   "id": "6111412b",
   "metadata": {},
   "outputs": [
    {
     "data": {
      "text/html": [
       "<div>\n",
       "<style scoped>\n",
       "    .dataframe tbody tr th:only-of-type {\n",
       "        vertical-align: middle;\n",
       "    }\n",
       "\n",
       "    .dataframe tbody tr th {\n",
       "        vertical-align: top;\n",
       "    }\n",
       "\n",
       "    .dataframe thead th {\n",
       "        text-align: right;\n",
       "    }\n",
       "</style>\n",
       "<table border=\"1\" class=\"dataframe\">\n",
       "  <thead>\n",
       "    <tr style=\"text-align: right;\">\n",
       "      <th></th>\n",
       "      <th>Dates</th>\n",
       "      <th>URL</th>\n",
       "      <th>News</th>\n",
       "      <th>Price Direction Up</th>\n",
       "      <th>Price Direction Constant</th>\n",
       "      <th>Price Direction Down</th>\n",
       "      <th>Asset Comparision</th>\n",
       "      <th>Past Information</th>\n",
       "      <th>Future Information</th>\n",
       "      <th>Price Sentiment</th>\n",
       "    </tr>\n",
       "  </thead>\n",
       "  <tbody>\n",
       "    <tr>\n",
       "      <th>0</th>\n",
       "      <td>28-01-2016</td>\n",
       "      <td>http://www.marketwatch.com/story/april-gold-do...</td>\n",
       "      <td>april gold down 20 cents to settle at $1,116.1...</td>\n",
       "      <td>0</td>\n",
       "      <td>0</td>\n",
       "      <td>1</td>\n",
       "      <td>0</td>\n",
       "      <td>1</td>\n",
       "      <td>0</td>\n",
       "      <td>negative</td>\n",
       "    </tr>\n",
       "    <tr>\n",
       "      <th>1</th>\n",
       "      <td>13-09-2017</td>\n",
       "      <td>http://www.marketwatch.com/story/gold-prices-s...</td>\n",
       "      <td>gold suffers third straight daily decline</td>\n",
       "      <td>0</td>\n",
       "      <td>0</td>\n",
       "      <td>1</td>\n",
       "      <td>0</td>\n",
       "      <td>1</td>\n",
       "      <td>0</td>\n",
       "      <td>negative</td>\n",
       "    </tr>\n",
       "    <tr>\n",
       "      <th>2</th>\n",
       "      <td>26-07-2016</td>\n",
       "      <td>http://www.marketwatch.com/story/gold-futures-...</td>\n",
       "      <td>Gold futures edge up after two-session decline</td>\n",
       "      <td>1</td>\n",
       "      <td>0</td>\n",
       "      <td>0</td>\n",
       "      <td>0</td>\n",
       "      <td>1</td>\n",
       "      <td>0</td>\n",
       "      <td>positive</td>\n",
       "    </tr>\n",
       "    <tr>\n",
       "      <th>3</th>\n",
       "      <td>28-02-2018</td>\n",
       "      <td>https://www.metalsdaily.com/link/277199/dent-r...</td>\n",
       "      <td>dent research : is gold's day in the sun comin...</td>\n",
       "      <td>0</td>\n",
       "      <td>0</td>\n",
       "      <td>0</td>\n",
       "      <td>0</td>\n",
       "      <td>0</td>\n",
       "      <td>1</td>\n",
       "      <td>none</td>\n",
       "    </tr>\n",
       "    <tr>\n",
       "      <th>4</th>\n",
       "      <td>6/9/2017</td>\n",
       "      <td>http://www.marketwatch.com/story/gold-steadies...</td>\n",
       "      <td>Gold snaps three-day rally as Trump, lawmakers...</td>\n",
       "      <td>0</td>\n",
       "      <td>0</td>\n",
       "      <td>1</td>\n",
       "      <td>0</td>\n",
       "      <td>1</td>\n",
       "      <td>0</td>\n",
       "      <td>negative</td>\n",
       "    </tr>\n",
       "  </tbody>\n",
       "</table>\n",
       "</div>"
      ],
      "text/plain": [
       "        Dates                                                URL  \\\n",
       "0  28-01-2016  http://www.marketwatch.com/story/april-gold-do...   \n",
       "1  13-09-2017  http://www.marketwatch.com/story/gold-prices-s...   \n",
       "2  26-07-2016  http://www.marketwatch.com/story/gold-futures-...   \n",
       "3  28-02-2018  https://www.metalsdaily.com/link/277199/dent-r...   \n",
       "4    6/9/2017  http://www.marketwatch.com/story/gold-steadies...   \n",
       "\n",
       "                                                News  Price Direction Up  \\\n",
       "0  april gold down 20 cents to settle at $1,116.1...                   0   \n",
       "1          gold suffers third straight daily decline                   0   \n",
       "2     Gold futures edge up after two-session decline                   1   \n",
       "3  dent research : is gold's day in the sun comin...                   0   \n",
       "4  Gold snaps three-day rally as Trump, lawmakers...                   0   \n",
       "\n",
       "   Price Direction Constant  Price Direction Down  Asset Comparision  \\\n",
       "0                         0                     1                  0   \n",
       "1                         0                     1                  0   \n",
       "2                         0                     0                  0   \n",
       "3                         0                     0                  0   \n",
       "4                         0                     1                  0   \n",
       "\n",
       "   Past Information  Future Information Price Sentiment  \n",
       "0                 1                   0        negative  \n",
       "1                 1                   0        negative  \n",
       "2                 1                   0        positive  \n",
       "3                 0                   1            none  \n",
       "4                 1                   0        negative  "
      ]
     },
     "execution_count": 5,
     "metadata": {},
     "output_type": "execute_result"
    }
   ],
   "source": [
    "df.head()"
   ]
  },
  {
   "cell_type": "code",
   "execution_count": 6,
   "id": "d2549d1e",
   "metadata": {},
   "outputs": [
    {
     "data": {
      "text/plain": [
       "Dates                       0\n",
       "URL                         0\n",
       "News                        0\n",
       "Price Direction Up          0\n",
       "Price Direction Constant    0\n",
       "Price Direction Down        0\n",
       "Asset Comparision           0\n",
       "Past Information            0\n",
       "Future Information          0\n",
       "Price Sentiment             0\n",
       "dtype: int64"
      ]
     },
     "execution_count": 6,
     "metadata": {},
     "output_type": "execute_result"
    }
   ],
   "source": [
    "#Checking for null values\n",
    "df.isnull().sum()"
   ]
  },
  {
   "cell_type": "code",
   "execution_count": 7,
   "id": "0e8cfb3a",
   "metadata": {},
   "outputs": [],
   "source": [
    "# checking average length of comments for padding \n",
    "list = df[\"News\"].tolist()\n",
    "# Average String lengths in list\n",
    "# using list comprehension + sum() + len()\n",
    "temp = [len(ele) for ele in list]\n",
    "res = 0 if len(temp) == 0 else (float(sum(temp)) / len(temp))"
   ]
  },
  {
   "cell_type": "code",
   "execution_count": 8,
   "id": "30096c24",
   "metadata": {},
   "outputs": [
    {
     "name": "stdout",
     "output_type": "stream",
     "text": [
      "The Average length of String in list is : 50.7615249780894\n"
     ]
    }
   ],
   "source": [
    "# printing result\n",
    "print(\"The Average length of String in list is : \" + str(res))"
   ]
  },
  {
   "cell_type": "code",
   "execution_count": 9,
   "id": "c330ecae",
   "metadata": {},
   "outputs": [
    {
     "name": "stdout",
     "output_type": "stream",
     "text": [
      "Maximum length string is : innovaminex, the cryptocurrency startup for precious metals traceability, to release a collection of cryptocurrency coins in gold and silver\n"
     ]
    }
   ],
   "source": [
    "# longest length of string\n",
    "# Longest String in list\n",
    "# using loop\n",
    "max_len = -1\n",
    "for ele in list:\n",
    "    if len(ele) > max_len:\n",
    "        max_len = len(ele)\n",
    "        res = ele\n",
    "  \n",
    "# printing result\n",
    "print(\"Maximum length string is : \" + res)"
   ]
  },
  {
   "cell_type": "code",
   "execution_count": 10,
   "id": "62d6c281",
   "metadata": {},
   "outputs": [
    {
     "data": {
      "text/plain": [
       "140"
      ]
     },
     "execution_count": 10,
     "metadata": {},
     "output_type": "execute_result"
    }
   ],
   "source": [
    "len('innovaminex, the cryptocurrency startup for precious metals traceability, to release a collection of cryptocurrency coins in gold and silver')"
   ]
  },
  {
   "cell_type": "code",
   "execution_count": 11,
   "id": "f5496b97",
   "metadata": {},
   "outputs": [
    {
     "data": {
      "text/plain": [
       "0        april gold down 20 cents to settle at $1,116.1...\n",
       "1                gold suffers third straight daily decline\n",
       "2           Gold futures edge up after two-session decline\n",
       "3        dent research : is gold's day in the sun comin...\n",
       "4        Gold snaps three-day rally as Trump, lawmakers...\n",
       "                               ...                        \n",
       "11405         gold seen falling from 3-week high this week\n",
       "11406    dominic frisby : now looks like a good time to...\n",
       "11407    Gold heading for worst week since November on ...\n",
       "11408    august gold up $7.60 at $878.80 an ounce on nymex\n",
       "11409      december gold down $1 at $749 an ounce on nymex\n",
       "Name: News, Length: 11410, dtype: object"
      ]
     },
     "execution_count": 11,
     "metadata": {},
     "output_type": "execute_result"
    }
   ],
   "source": [
    "df[\"News\"]"
   ]
  },
  {
   "cell_type": "code",
   "execution_count": 12,
   "id": "6cb89e4e",
   "metadata": {},
   "outputs": [],
   "source": [
    "# Padding\n",
    "df[\"News\"]= df[\"News\"].str.pad(51, side ='both', fillchar ='+')"
   ]
  },
  {
   "cell_type": "code",
   "execution_count": 13,
   "id": "dccfafc3",
   "metadata": {},
   "outputs": [
    {
     "data": {
      "text/plain": [
       "0        +april gold down 20 cents to settle at $1,116....\n",
       "1        +++++gold suffers third straight daily decline...\n",
       "2        +++Gold futures edge up after two-session decl...\n",
       "3        dent research : is gold's day in the sun comin...\n",
       "4        Gold snaps three-day rally as Trump, lawmakers...\n",
       "                               ...                        \n",
       "11405    ++++gold seen falling from 3-week high this we...\n",
       "11406    dominic frisby : now looks like a good time to...\n",
       "11407    Gold heading for worst week since November on ...\n",
       "11408    +august gold up $7.60 at $878.80 an ounce on n...\n",
       "11409    ++december gold down $1 at $749 an ounce on ny...\n",
       "Name: News, Length: 11410, dtype: object"
      ]
     },
     "execution_count": 13,
     "metadata": {},
     "output_type": "execute_result"
    }
   ],
   "source": [
    "# Padding successful\n",
    "df[\"News\"]"
   ]
  },
  {
   "cell_type": "code",
   "execution_count": 14,
   "id": "a90f54f7",
   "metadata": {},
   "outputs": [],
   "source": [
    "X=df['News']\n",
    "y=df['Price Sentiment']\n",
    "  \n"
   ]
  },
  {
   "cell_type": "code",
   "execution_count": 15,
   "id": "329a6bac",
   "metadata": {},
   "outputs": [],
   "source": [
    "# splitting into x and y\n",
    "from sklearn.model_selection import train_test_split\n",
    "X_train, X_test, y_train, y_test = train_test_split(X, y, test_size=0.33, random_state=42)"
   ]
  },
  {
   "cell_type": "code",
   "execution_count": 16,
   "id": "c31e7a2d",
   "metadata": {},
   "outputs": [
    {
     "data": {
      "text/plain": [
       "pandas.core.series.Series"
      ]
     },
     "execution_count": 16,
     "metadata": {},
     "output_type": "execute_result"
    },
    {
     "name": "stdout",
     "output_type": "stream",
     "text": [
      "\n",
      "\n"
     ]
    },
    {
     "data": {
      "text/plain": [
       "'Shape of X_train (7644,)'"
      ]
     },
     "execution_count": 16,
     "metadata": {},
     "output_type": "execute_result"
    },
    {
     "name": "stdout",
     "output_type": "stream",
     "text": [
      "\n",
      "\n"
     ]
    },
    {
     "data": {
      "text/plain": [
       "'Shape of X_test (3766,)'"
      ]
     },
     "execution_count": 16,
     "metadata": {},
     "output_type": "execute_result"
    },
    {
     "name": "stdout",
     "output_type": "stream",
     "text": [
      "\n",
      "\n"
     ]
    },
    {
     "data": {
      "text/plain": [
       "(7644,)"
      ]
     },
     "execution_count": 16,
     "metadata": {},
     "output_type": "execute_result"
    },
    {
     "name": "stdout",
     "output_type": "stream",
     "text": [
      "\n",
      "\n"
     ]
    },
    {
     "data": {
      "text/plain": [
       "(3766,)"
      ]
     },
     "execution_count": 16,
     "metadata": {},
     "output_type": "execute_result"
    }
   ],
   "source": [
    "# 2.5 About our data\n",
    "\n",
    "type(X_train)      # numpy.ndarray\n",
    "print(\"\\n\")\n",
    "f\"Shape of X_train {X_train.shape}\"     \n",
    "print(\"\\n\")\n",
    "f\"Shape of X_test {X_test.shape}\"       \n",
    "print(\"\\n\")\n",
    "y_train.shape      \n",
    "print(\"\\n\")\n",
    "y_test.shape     "
   ]
  },
  {
   "cell_type": "code",
   "execution_count": 17,
   "id": "d1414f55",
   "metadata": {},
   "outputs": [
    {
     "data": {
      "text/plain": [
       "1126    +++++++++++is it too late for gold fever?+++++...\n",
       "4902    Gold edges down as Fed's interest rate view st...\n",
       "6013    Gold settles a few cents lower, ends six-sessi...\n",
       "5257    +gold clears 200-dma hurdle, surges to 1-month...\n",
       "2441    ++++gold ends higher, shakes off early weaknes...\n",
       "Name: News, dtype: object"
      ]
     },
     "execution_count": 17,
     "metadata": {},
     "output_type": "execute_result"
    },
    {
     "name": "stdout",
     "output_type": "stream",
     "text": [
      "\n",
      "\n",
      "------------\n",
      "\n",
      "\n"
     ]
    },
    {
     "data": {
      "text/plain": [
       "1126        none\n",
       "4902    negative\n",
       "6013    negative\n",
       "5257    positive\n",
       "Name: Price Sentiment, dtype: object"
      ]
     },
     "execution_count": 17,
     "metadata": {},
     "output_type": "execute_result"
    }
   ],
   "source": [
    "# 2.5.1\n",
    "X_train[0:5]      \n",
    "print(\"\\n\\n------------\\n\\n\")\n",
    "y_train[:4]      \n"
   ]
  },
  {
   "cell_type": "code",
   "execution_count": 18,
   "id": "9bd0d64d",
   "metadata": {},
   "outputs": [
    {
     "data": {
      "text/plain": [
       "51"
      ]
     },
     "execution_count": 18,
     "metadata": {},
     "output_type": "execute_result"
    },
    {
     "name": "stdout",
     "output_type": "stream",
     "text": [
      "\n",
      "\n",
      "------------\n",
      "\n",
      "\n"
     ]
    },
    {
     "data": {
      "text/plain": [
       "70"
      ]
     },
     "execution_count": 18,
     "metadata": {},
     "output_type": "execute_result"
    }
   ],
   "source": [
    "# 2.5.2 Every comment has different number of words\n",
    "len(X_train[1])     # 51\n",
    "print(\"\\n\\n------------\\n\\n\")\n",
    "len(X_train[4])    # 70"
   ]
  },
  {
   "cell_type": "code",
   "execution_count": 19,
   "id": "bbf64855",
   "metadata": {},
   "outputs": [
    {
     "name": "stdout",
     "output_type": "stream",
     "text": [
      "<class 'pandas.core.series.Series'>\n",
      "Int64Index: 7644 entries, 1126 to 7270\n",
      "Series name: News\n",
      "Non-Null Count  Dtype \n",
      "--------------  ----- \n",
      "7644 non-null   object\n",
      "dtypes: object(1)\n",
      "memory usage: 377.5+ KB\n"
     ]
    }
   ],
   "source": [
    "X_train.info()"
   ]
  },
  {
   "cell_type": "code",
   "execution_count": 21,
   "id": "d64caecf",
   "metadata": {},
   "outputs": [],
   "source": [
    "# 4.0 Build model now\n",
    " \n",
    "# 4.0.1 Delete any earlier model \n",
    "if 'model' in locals():\n",
    "  del model\n",
    "\n",
    "# 4.0.2 Out model:\n",
    "\n",
    "# 4.0.3 Start with a blank template:\n",
    "model = Sequential() \n",
    "\n",
    "\n",
    "# 4.1 Add an embedding layer:\n",
    "model.add(Embedding(\n",
    "                    max_vocabulary,            # Decides number of input neurons\n",
    "                    32,                        # Decides number of neurons in hidden layer\n",
    "                    input_length= max_len_review) # (optional) Decides how many groups of OHEs\n",
    "                                                  # are input at a time (or in sequence).\n",
    "                                                  # It also decides how many times\n",
    "                                                  #  RNN should loop around\n",
    "                                                  #    If omitted, decided autoamtically\n",
    "                                                  #     during 'model.fit()' by considering\n",
    "                                                  #       x_train.shape[1]\n",
    "                  \n",
    "          )"
   ]
  },
  {
   "cell_type": "code",
   "execution_count": 22,
   "id": "4488851f",
   "metadata": {},
   "outputs": [
    {
     "name": "stdout",
     "output_type": "stream",
     "text": [
      "Model: \"sequential\"\n",
      "_________________________________________________________________\n",
      " Layer (type)                Output Shape              Param #   \n",
      "=================================================================\n",
      " embedding (Embedding)       (None, 140, 32)           320000    \n",
      "                                                                 \n",
      "=================================================================\n",
      "Total params: 320,000\n",
      "Trainable params: 320,000\n",
      "Non-trainable params: 0\n",
      "_________________________________________________________________\n"
     ]
    }
   ],
   "source": [
    "\n",
    "model.summary()"
   ]
  },
  {
   "cell_type": "code",
   "execution_count": 23,
   "id": "c465d2d7",
   "metadata": {},
   "outputs": [],
   "source": [
    "model.add(\n",
    "           SimpleRNN\n",
    "                    (\n",
    "                      32,                      # Neurons at the output\n",
    "                      return_sequences = False # Make it True\n",
    "                                               # And add layer #4.4\n",
    "                    )\n",
    "          )   # Output\n"
   ]
  },
  {
   "cell_type": "code",
   "execution_count": 24,
   "id": "57d78109",
   "metadata": {},
   "outputs": [
    {
     "name": "stdout",
     "output_type": "stream",
     "text": [
      "Model: \"sequential\"\n",
      "_________________________________________________________________\n",
      " Layer (type)                Output Shape              Param #   \n",
      "=================================================================\n",
      " embedding (Embedding)       (None, 140, 32)           320000    \n",
      "                                                                 \n",
      " simple_rnn (SimpleRNN)      (None, 32)                2080      \n",
      "                                                                 \n",
      " dense (Dense)               (None, 1)                 33        \n",
      "                                                                 \n",
      "=================================================================\n",
      "Total params: 322,113\n",
      "Trainable params: 322,113\n",
      "Non-trainable params: 0\n",
      "_________________________________________________________________\n"
     ]
    }
   ],
   "source": [
    "# 4.5 Add classification layer:\n",
    "\n",
    "model.add(Dense(1, activation = 'sigmoid'))\n",
    "model.summary()"
   ]
  },
  {
   "cell_type": "code",
   "execution_count": 25,
   "id": "d5e59101",
   "metadata": {},
   "outputs": [],
   "source": [
    "# 4.8 Compile model\n",
    "model.compile(\n",
    "               loss = 'binary_crossentropy',\n",
    "               optimizer = 'rmsprop',\n",
    "               metrics = ['acc']\n",
    "              )"
   ]
  },
  {
   "cell_type": "code",
   "execution_count": 26,
   "id": "48c3d157",
   "metadata": {},
   "outputs": [],
   "source": [
    "# 4.9  Tensorboard callback\n",
    "#       We will use TensorBoard to visualize metrics \n",
    "#       including loss, accuracy etc. \n",
    "#       Create a tf.keras.callbacks.TensorBoard\n",
    "\n",
    "tensorboard_callback = tf.keras.callbacks.TensorBoard(log_dir=\"logs\")"
   ]
  },
  {
   "cell_type": "code",
   "execution_count": 27,
   "id": "7e45dd5a",
   "metadata": {},
   "outputs": [
    {
     "name": "stdout",
     "output_type": "stream",
     "text": [
      "Epoch 1/15\n",
      "WARNING:tensorflow:Model was constructed with shape (None, 140) for input KerasTensor(type_spec=TensorSpec(shape=(None, 140), dtype=tf.float32, name='embedding_input'), name='embedding_input', description=\"created by layer 'embedding_input'\"), but it was called on an input with incompatible shape (None, 1).\n",
      "WARNING:tensorflow:Model was constructed with shape (None, 140) for input KerasTensor(type_spec=TensorSpec(shape=(None, 140), dtype=tf.float32, name='embedding_input'), name='embedding_input', description=\"created by layer 'embedding_input'\"), but it was called on an input with incompatible shape (None, 1).\n"
     ]
    },
    {
     "ename": "UnimplementedError",
     "evalue": "Graph execution error:\n\nDetected at node 'sequential/Cast' defined at (most recent call last):\n    File \"C:\\Users\\Suchit Katyal\\anaconda3\\lib\\runpy.py\", line 197, in _run_module_as_main\n      return _run_code(code, main_globals, None,\n    File \"C:\\Users\\Suchit Katyal\\anaconda3\\lib\\runpy.py\", line 87, in _run_code\n      exec(code, run_globals)\n    File \"C:\\Users\\Suchit Katyal\\anaconda3\\lib\\site-packages\\ipykernel_launcher.py\", line 17, in <module>\n      app.launch_new_instance()\n    File \"C:\\Users\\Suchit Katyal\\anaconda3\\lib\\site-packages\\traitlets\\config\\application.py\", line 846, in launch_instance\n      app.start()\n    File \"C:\\Users\\Suchit Katyal\\anaconda3\\lib\\site-packages\\ipykernel\\kernelapp.py\", line 712, in start\n      self.io_loop.start()\n    File \"C:\\Users\\Suchit Katyal\\anaconda3\\lib\\site-packages\\tornado\\platform\\asyncio.py\", line 199, in start\n      self.asyncio_loop.run_forever()\n    File \"C:\\Users\\Suchit Katyal\\anaconda3\\lib\\asyncio\\base_events.py\", line 601, in run_forever\n      self._run_once()\n    File \"C:\\Users\\Suchit Katyal\\anaconda3\\lib\\asyncio\\base_events.py\", line 1905, in _run_once\n      handle._run()\n    File \"C:\\Users\\Suchit Katyal\\anaconda3\\lib\\asyncio\\events.py\", line 80, in _run\n      self._context.run(self._callback, *self._args)\n    File \"C:\\Users\\Suchit Katyal\\anaconda3\\lib\\site-packages\\ipykernel\\kernelbase.py\", line 510, in dispatch_queue\n      await self.process_one()\n    File \"C:\\Users\\Suchit Katyal\\anaconda3\\lib\\site-packages\\ipykernel\\kernelbase.py\", line 499, in process_one\n      await dispatch(*args)\n    File \"C:\\Users\\Suchit Katyal\\anaconda3\\lib\\site-packages\\ipykernel\\kernelbase.py\", line 406, in dispatch_shell\n      await result\n    File \"C:\\Users\\Suchit Katyal\\anaconda3\\lib\\site-packages\\ipykernel\\kernelbase.py\", line 730, in execute_request\n      reply_content = await reply_content\n    File \"C:\\Users\\Suchit Katyal\\anaconda3\\lib\\site-packages\\ipykernel\\ipkernel.py\", line 390, in do_execute\n      res = shell.run_cell(code, store_history=store_history, silent=silent)\n    File \"C:\\Users\\Suchit Katyal\\anaconda3\\lib\\site-packages\\ipykernel\\zmqshell.py\", line 528, in run_cell\n      return super().run_cell(*args, **kwargs)\n    File \"C:\\Users\\Suchit Katyal\\anaconda3\\lib\\site-packages\\IPython\\core\\interactiveshell.py\", line 2914, in run_cell\n      result = self._run_cell(\n    File \"C:\\Users\\Suchit Katyal\\anaconda3\\lib\\site-packages\\IPython\\core\\interactiveshell.py\", line 2960, in _run_cell\n      return runner(coro)\n    File \"C:\\Users\\Suchit Katyal\\anaconda3\\lib\\site-packages\\IPython\\core\\async_helpers.py\", line 78, in _pseudo_sync_runner\n      coro.send(None)\n    File \"C:\\Users\\Suchit Katyal\\anaconda3\\lib\\site-packages\\IPython\\core\\interactiveshell.py\", line 3185, in run_cell_async\n      has_raised = await self.run_ast_nodes(code_ast.body, cell_name,\n    File \"C:\\Users\\Suchit Katyal\\anaconda3\\lib\\site-packages\\IPython\\core\\interactiveshell.py\", line 3377, in run_ast_nodes\n      if (await self.run_code(code, result,  async_=asy)):\n    File \"C:\\Users\\Suchit Katyal\\anaconda3\\lib\\site-packages\\IPython\\core\\interactiveshell.py\", line 3457, in run_code\n      exec(code_obj, self.user_global_ns, self.user_ns)\n    File \"C:\\Users\\Suchit Katyal\\AppData\\Local\\Temp\\ipykernel_25376\\1034273189.py\", line 5, in <module>\n      history = model.fit(X_train,\n    File \"C:\\Users\\Suchit Katyal\\anaconda3\\lib\\site-packages\\keras\\utils\\traceback_utils.py\", line 65, in error_handler\n      return fn(*args, **kwargs)\n    File \"C:\\Users\\Suchit Katyal\\anaconda3\\lib\\site-packages\\keras\\engine\\training.py\", line 1650, in fit\n      tmp_logs = self.train_function(iterator)\n    File \"C:\\Users\\Suchit Katyal\\anaconda3\\lib\\site-packages\\keras\\engine\\training.py\", line 1249, in train_function\n      return step_function(self, iterator)\n    File \"C:\\Users\\Suchit Katyal\\anaconda3\\lib\\site-packages\\keras\\engine\\training.py\", line 1233, in step_function\n      outputs = model.distribute_strategy.run(run_step, args=(data,))\n    File \"C:\\Users\\Suchit Katyal\\anaconda3\\lib\\site-packages\\keras\\engine\\training.py\", line 1222, in run_step\n      outputs = model.train_step(data)\n    File \"C:\\Users\\Suchit Katyal\\anaconda3\\lib\\site-packages\\keras\\engine\\training.py\", line 1023, in train_step\n      y_pred = self(x, training=True)\n    File \"C:\\Users\\Suchit Katyal\\anaconda3\\lib\\site-packages\\keras\\utils\\traceback_utils.py\", line 65, in error_handler\n      return fn(*args, **kwargs)\n    File \"C:\\Users\\Suchit Katyal\\anaconda3\\lib\\site-packages\\keras\\engine\\training.py\", line 561, in __call__\n      return super().__call__(*args, **kwargs)\n    File \"C:\\Users\\Suchit Katyal\\anaconda3\\lib\\site-packages\\keras\\utils\\traceback_utils.py\", line 65, in error_handler\n      return fn(*args, **kwargs)\n    File \"C:\\Users\\Suchit Katyal\\anaconda3\\lib\\site-packages\\keras\\engine\\base_layer.py\", line 1132, in __call__\n      outputs = call_fn(inputs, *args, **kwargs)\n    File \"C:\\Users\\Suchit Katyal\\anaconda3\\lib\\site-packages\\keras\\utils\\traceback_utils.py\", line 96, in error_handler\n      return fn(*args, **kwargs)\n    File \"C:\\Users\\Suchit Katyal\\anaconda3\\lib\\site-packages\\keras\\engine\\sequential.py\", line 413, in call\n      return super().call(inputs, training=training, mask=mask)\n    File \"C:\\Users\\Suchit Katyal\\anaconda3\\lib\\site-packages\\keras\\engine\\functional.py\", line 511, in call\n      return self._run_internal_graph(inputs, training=training, mask=mask)\n    File \"C:\\Users\\Suchit Katyal\\anaconda3\\lib\\site-packages\\keras\\engine\\functional.py\", line 650, in _run_internal_graph\n      y = self._conform_to_reference_input(y, ref_input=x)\n    File \"C:\\Users\\Suchit Katyal\\anaconda3\\lib\\site-packages\\keras\\engine\\functional.py\", line 762, in _conform_to_reference_input\n      tensor = tf.cast(tensor, dtype=ref_input.dtype)\nNode: 'sequential/Cast'\nCast string to float is not supported\n\t [[{{node sequential/Cast}}]] [Op:__inference_train_function_1644]",
     "output_type": "error",
     "traceback": [
      "\u001b[1;31m---------------------------------------------------------------------------\u001b[0m",
      "\u001b[1;31mUnimplementedError\u001b[0m                        Traceback (most recent call last)",
      "\u001b[1;32m~\\AppData\\Local\\Temp\\ipykernel_25376\\1034273189.py\u001b[0m in \u001b[0;36m<module>\u001b[1;34m\u001b[0m\n\u001b[0;32m      3\u001b[0m \u001b[0mepochs\u001b[0m \u001b[1;33m=\u001b[0m \u001b[1;36m15\u001b[0m\u001b[1;33m\u001b[0m\u001b[1;33m\u001b[0m\u001b[0m\n\u001b[0;32m      4\u001b[0m \u001b[0mstart\u001b[0m \u001b[1;33m=\u001b[0m \u001b[0mtime\u001b[0m\u001b[1;33m.\u001b[0m\u001b[0mtime\u001b[0m\u001b[1;33m(\u001b[0m\u001b[1;33m)\u001b[0m\u001b[1;33m\u001b[0m\u001b[1;33m\u001b[0m\u001b[0m\n\u001b[1;32m----> 5\u001b[1;33m history = model.fit(X_train,\n\u001b[0m\u001b[0;32m      6\u001b[0m                     \u001b[0my_train\u001b[0m\u001b[1;33m,\u001b[0m\u001b[1;33m\u001b[0m\u001b[1;33m\u001b[0m\u001b[0m\n\u001b[0;32m      7\u001b[0m                     \u001b[0mbatch_size\u001b[0m \u001b[1;33m=\u001b[0m \u001b[1;36m64\u001b[0m\u001b[1;33m,\u001b[0m             \u001b[1;31m# Number of samples per gradient update\u001b[0m\u001b[1;33m\u001b[0m\u001b[1;33m\u001b[0m\u001b[0m\n",
      "\u001b[1;32m~\\anaconda3\\lib\\site-packages\\keras\\utils\\traceback_utils.py\u001b[0m in \u001b[0;36merror_handler\u001b[1;34m(*args, **kwargs)\u001b[0m\n\u001b[0;32m     68\u001b[0m             \u001b[1;31m# To get the full stack trace, call:\u001b[0m\u001b[1;33m\u001b[0m\u001b[1;33m\u001b[0m\u001b[0m\n\u001b[0;32m     69\u001b[0m             \u001b[1;31m# `tf.debugging.disable_traceback_filtering()`\u001b[0m\u001b[1;33m\u001b[0m\u001b[1;33m\u001b[0m\u001b[0m\n\u001b[1;32m---> 70\u001b[1;33m             \u001b[1;32mraise\u001b[0m \u001b[0me\u001b[0m\u001b[1;33m.\u001b[0m\u001b[0mwith_traceback\u001b[0m\u001b[1;33m(\u001b[0m\u001b[0mfiltered_tb\u001b[0m\u001b[1;33m)\u001b[0m \u001b[1;32mfrom\u001b[0m \u001b[1;32mNone\u001b[0m\u001b[1;33m\u001b[0m\u001b[1;33m\u001b[0m\u001b[0m\n\u001b[0m\u001b[0;32m     71\u001b[0m         \u001b[1;32mfinally\u001b[0m\u001b[1;33m:\u001b[0m\u001b[1;33m\u001b[0m\u001b[1;33m\u001b[0m\u001b[0m\n\u001b[0;32m     72\u001b[0m             \u001b[1;32mdel\u001b[0m \u001b[0mfiltered_tb\u001b[0m\u001b[1;33m\u001b[0m\u001b[1;33m\u001b[0m\u001b[0m\n",
      "\u001b[1;32m~\\anaconda3\\lib\\site-packages\\tensorflow\\python\\eager\\execute.py\u001b[0m in \u001b[0;36mquick_execute\u001b[1;34m(op_name, num_outputs, inputs, attrs, ctx, name)\u001b[0m\n\u001b[0;32m     50\u001b[0m   \u001b[1;32mtry\u001b[0m\u001b[1;33m:\u001b[0m\u001b[1;33m\u001b[0m\u001b[1;33m\u001b[0m\u001b[0m\n\u001b[0;32m     51\u001b[0m     \u001b[0mctx\u001b[0m\u001b[1;33m.\u001b[0m\u001b[0mensure_initialized\u001b[0m\u001b[1;33m(\u001b[0m\u001b[1;33m)\u001b[0m\u001b[1;33m\u001b[0m\u001b[1;33m\u001b[0m\u001b[0m\n\u001b[1;32m---> 52\u001b[1;33m     tensors = pywrap_tfe.TFE_Py_Execute(ctx._handle, device_name, op_name,\n\u001b[0m\u001b[0;32m     53\u001b[0m                                         inputs, attrs, num_outputs)\n\u001b[0;32m     54\u001b[0m   \u001b[1;32mexcept\u001b[0m \u001b[0mcore\u001b[0m\u001b[1;33m.\u001b[0m\u001b[0m_NotOkStatusException\u001b[0m \u001b[1;32mas\u001b[0m \u001b[0me\u001b[0m\u001b[1;33m:\u001b[0m\u001b[1;33m\u001b[0m\u001b[1;33m\u001b[0m\u001b[0m\n",
      "\u001b[1;31mUnimplementedError\u001b[0m: Graph execution error:\n\nDetected at node 'sequential/Cast' defined at (most recent call last):\n    File \"C:\\Users\\Suchit Katyal\\anaconda3\\lib\\runpy.py\", line 197, in _run_module_as_main\n      return _run_code(code, main_globals, None,\n    File \"C:\\Users\\Suchit Katyal\\anaconda3\\lib\\runpy.py\", line 87, in _run_code\n      exec(code, run_globals)\n    File \"C:\\Users\\Suchit Katyal\\anaconda3\\lib\\site-packages\\ipykernel_launcher.py\", line 17, in <module>\n      app.launch_new_instance()\n    File \"C:\\Users\\Suchit Katyal\\anaconda3\\lib\\site-packages\\traitlets\\config\\application.py\", line 846, in launch_instance\n      app.start()\n    File \"C:\\Users\\Suchit Katyal\\anaconda3\\lib\\site-packages\\ipykernel\\kernelapp.py\", line 712, in start\n      self.io_loop.start()\n    File \"C:\\Users\\Suchit Katyal\\anaconda3\\lib\\site-packages\\tornado\\platform\\asyncio.py\", line 199, in start\n      self.asyncio_loop.run_forever()\n    File \"C:\\Users\\Suchit Katyal\\anaconda3\\lib\\asyncio\\base_events.py\", line 601, in run_forever\n      self._run_once()\n    File \"C:\\Users\\Suchit Katyal\\anaconda3\\lib\\asyncio\\base_events.py\", line 1905, in _run_once\n      handle._run()\n    File \"C:\\Users\\Suchit Katyal\\anaconda3\\lib\\asyncio\\events.py\", line 80, in _run\n      self._context.run(self._callback, *self._args)\n    File \"C:\\Users\\Suchit Katyal\\anaconda3\\lib\\site-packages\\ipykernel\\kernelbase.py\", line 510, in dispatch_queue\n      await self.process_one()\n    File \"C:\\Users\\Suchit Katyal\\anaconda3\\lib\\site-packages\\ipykernel\\kernelbase.py\", line 499, in process_one\n      await dispatch(*args)\n    File \"C:\\Users\\Suchit Katyal\\anaconda3\\lib\\site-packages\\ipykernel\\kernelbase.py\", line 406, in dispatch_shell\n      await result\n    File \"C:\\Users\\Suchit Katyal\\anaconda3\\lib\\site-packages\\ipykernel\\kernelbase.py\", line 730, in execute_request\n      reply_content = await reply_content\n    File \"C:\\Users\\Suchit Katyal\\anaconda3\\lib\\site-packages\\ipykernel\\ipkernel.py\", line 390, in do_execute\n      res = shell.run_cell(code, store_history=store_history, silent=silent)\n    File \"C:\\Users\\Suchit Katyal\\anaconda3\\lib\\site-packages\\ipykernel\\zmqshell.py\", line 528, in run_cell\n      return super().run_cell(*args, **kwargs)\n    File \"C:\\Users\\Suchit Katyal\\anaconda3\\lib\\site-packages\\IPython\\core\\interactiveshell.py\", line 2914, in run_cell\n      result = self._run_cell(\n    File \"C:\\Users\\Suchit Katyal\\anaconda3\\lib\\site-packages\\IPython\\core\\interactiveshell.py\", line 2960, in _run_cell\n      return runner(coro)\n    File \"C:\\Users\\Suchit Katyal\\anaconda3\\lib\\site-packages\\IPython\\core\\async_helpers.py\", line 78, in _pseudo_sync_runner\n      coro.send(None)\n    File \"C:\\Users\\Suchit Katyal\\anaconda3\\lib\\site-packages\\IPython\\core\\interactiveshell.py\", line 3185, in run_cell_async\n      has_raised = await self.run_ast_nodes(code_ast.body, cell_name,\n    File \"C:\\Users\\Suchit Katyal\\anaconda3\\lib\\site-packages\\IPython\\core\\interactiveshell.py\", line 3377, in run_ast_nodes\n      if (await self.run_code(code, result,  async_=asy)):\n    File \"C:\\Users\\Suchit Katyal\\anaconda3\\lib\\site-packages\\IPython\\core\\interactiveshell.py\", line 3457, in run_code\n      exec(code_obj, self.user_global_ns, self.user_ns)\n    File \"C:\\Users\\Suchit Katyal\\AppData\\Local\\Temp\\ipykernel_25376\\1034273189.py\", line 5, in <module>\n      history = model.fit(X_train,\n    File \"C:\\Users\\Suchit Katyal\\anaconda3\\lib\\site-packages\\keras\\utils\\traceback_utils.py\", line 65, in error_handler\n      return fn(*args, **kwargs)\n    File \"C:\\Users\\Suchit Katyal\\anaconda3\\lib\\site-packages\\keras\\engine\\training.py\", line 1650, in fit\n      tmp_logs = self.train_function(iterator)\n    File \"C:\\Users\\Suchit Katyal\\anaconda3\\lib\\site-packages\\keras\\engine\\training.py\", line 1249, in train_function\n      return step_function(self, iterator)\n    File \"C:\\Users\\Suchit Katyal\\anaconda3\\lib\\site-packages\\keras\\engine\\training.py\", line 1233, in step_function\n      outputs = model.distribute_strategy.run(run_step, args=(data,))\n    File \"C:\\Users\\Suchit Katyal\\anaconda3\\lib\\site-packages\\keras\\engine\\training.py\", line 1222, in run_step\n      outputs = model.train_step(data)\n    File \"C:\\Users\\Suchit Katyal\\anaconda3\\lib\\site-packages\\keras\\engine\\training.py\", line 1023, in train_step\n      y_pred = self(x, training=True)\n    File \"C:\\Users\\Suchit Katyal\\anaconda3\\lib\\site-packages\\keras\\utils\\traceback_utils.py\", line 65, in error_handler\n      return fn(*args, **kwargs)\n    File \"C:\\Users\\Suchit Katyal\\anaconda3\\lib\\site-packages\\keras\\engine\\training.py\", line 561, in __call__\n      return super().__call__(*args, **kwargs)\n    File \"C:\\Users\\Suchit Katyal\\anaconda3\\lib\\site-packages\\keras\\utils\\traceback_utils.py\", line 65, in error_handler\n      return fn(*args, **kwargs)\n    File \"C:\\Users\\Suchit Katyal\\anaconda3\\lib\\site-packages\\keras\\engine\\base_layer.py\", line 1132, in __call__\n      outputs = call_fn(inputs, *args, **kwargs)\n    File \"C:\\Users\\Suchit Katyal\\anaconda3\\lib\\site-packages\\keras\\utils\\traceback_utils.py\", line 96, in error_handler\n      return fn(*args, **kwargs)\n    File \"C:\\Users\\Suchit Katyal\\anaconda3\\lib\\site-packages\\keras\\engine\\sequential.py\", line 413, in call\n      return super().call(inputs, training=training, mask=mask)\n    File \"C:\\Users\\Suchit Katyal\\anaconda3\\lib\\site-packages\\keras\\engine\\functional.py\", line 511, in call\n      return self._run_internal_graph(inputs, training=training, mask=mask)\n    File \"C:\\Users\\Suchit Katyal\\anaconda3\\lib\\site-packages\\keras\\engine\\functional.py\", line 650, in _run_internal_graph\n      y = self._conform_to_reference_input(y, ref_input=x)\n    File \"C:\\Users\\Suchit Katyal\\anaconda3\\lib\\site-packages\\keras\\engine\\functional.py\", line 762, in _conform_to_reference_input\n      tensor = tf.cast(tensor, dtype=ref_input.dtype)\nNode: 'sequential/Cast'\nCast string to float is not supported\n\t [[{{node sequential/Cast}}]] [Op:__inference_train_function_1644]"
     ]
    }
   ],
   "source": [
    "# 5.0  Takes time 170 secs per epoch\n",
    "\n",
    "epochs = 15\n",
    "start = time.time()\n",
    "history = model.fit(X_train,\n",
    "                    y_train,\n",
    "                    batch_size = 64,             # Number of samples per gradient update\n",
    "                    validation_split = 0.2,      # Fraction of training data to be used as validation data\n",
    "                    epochs = epochs,\n",
    "                    shuffle = True,              # Shuffle training data before each epoch\n",
    "                    callbacks=[tensorboard_callback],\n",
    "                    verbose =1\n",
    "                    )\n",
    "end = time.time()\n",
    "(end-start)/60\n"
   ]
  },
  {
   "cell_type": "markdown",
   "id": "92bc8d92",
   "metadata": {},
   "source": [
    "# HUGGING FACE"
   ]
  },
  {
   "cell_type": "code",
   "execution_count": 33,
   "id": "407ca93d",
   "metadata": {},
   "outputs": [],
   "source": [
    "# Call libraries:\n",
    "# 1.1 Hugging Face related:\n",
    "\n",
    "from transformers import pipeline\n",
    "from datasets import load_dataset\n",
    "from datasets import Dataset"
   ]
  },
  {
   "cell_type": "code",
   "execution_count": 34,
   "id": "1eac724d",
   "metadata": {},
   "outputs": [],
   "source": [
    "import pandas as pd\n",
    "data = pd.read_csv(\"C:\\\\Users\\\\Suchit Katyal\\\\Desktop\\\\commodity news.csv\")\n"
   ]
  },
  {
   "cell_type": "code",
   "execution_count": null,
   "id": "d107b5c1",
   "metadata": {},
   "outputs": [],
   "source": []
  },
  {
   "cell_type": "code",
   "execution_count": null,
   "id": "181cca84",
   "metadata": {},
   "outputs": [],
   "source": []
  },
  {
   "cell_type": "code",
   "execution_count": 35,
   "id": "d74b4bbe",
   "metadata": {},
   "outputs": [],
   "source": [
    "# 6.0 Transform pandas dataframe to hugging face dataset:\n",
    "\n",
    "dataset = Dataset.from_pandas(data)"
   ]
  },
  {
   "cell_type": "code",
   "execution_count": 36,
   "id": "2c1155f6",
   "metadata": {},
   "outputs": [
    {
     "data": {
      "text/plain": [
       "['april gold down 20 cents to settle at $1,116.10/oz',\n",
       " 'gold suffers third straight daily decline',\n",
       " 'Gold futures edge up after two-session decline']"
      ]
     },
     "execution_count": 36,
     "metadata": {},
     "output_type": "execute_result"
    }
   ],
   "source": [
    "# 6.2 Look at 3 rows of column of interest:\n",
    "\n",
    "dataset['News'][:3]\n"
   ]
  },
  {
   "cell_type": "markdown",
   "id": "c368e8e1",
   "metadata": {},
   "source": [
    "# sentiment analysis using hugging face"
   ]
  },
  {
   "cell_type": "code",
   "execution_count": 29,
   "id": "6489f70d",
   "metadata": {},
   "outputs": [
    {
     "name": "stderr",
     "output_type": "stream",
     "text": [
      "No model was supplied, defaulted to distilbert-base-uncased-finetuned-sst-2-english and revision af0f99b (https://huggingface.co/distilbert-base-uncased-finetuned-sst-2-english).\n",
      "Using a pipeline without specifying a model name and revision in production is not recommended.\n"
     ]
    },
    {
     "data": {
      "application/vnd.jupyter.widget-view+json": {
       "model_id": "2fbdb74e2a364b6886b54b78b95fbf43",
       "version_major": 2,
       "version_minor": 0
      },
      "text/plain": [
       "Downloading:   0%|          | 0.00/268M [00:00<?, ?B/s]"
      ]
     },
     "metadata": {},
     "output_type": "display_data"
    },
    {
     "name": "stderr",
     "output_type": "stream",
     "text": [
      "C:\\Users\\Suchit Katyal\\anaconda3\\lib\\site-packages\\huggingface_hub\\file_download.py:127: UserWarning: `huggingface_hub` cache-system uses symlinks by default to efficiently store duplicated files but your machine does not support them in C:\\Users\\Suchit Katyal\\.cache\\huggingface\\hub. Caching files will still work but in a degraded version that might require more space on your disk. This warning can be disabled by setting the `HF_HUB_DISABLE_SYMLINKS_WARNING` environment variable. For more details, see https://huggingface.co/docs/huggingface_hub/how-to-cache#limitations.\n",
      "To support symlinks on Windows, you either need to activate Developer Mode or to run Python as an administrator. In order to see activate developer mode, see this article: https://docs.microsoft.com/en-us/windows/apps/get-started/enable-your-device-for-development\n",
      "  warnings.warn(message)\n"
     ]
    }
   ],
   "source": [
    "# 2.0 Instantiate 'pipeline' for sentiment-anaysis\n",
    "#     Once instantiated, 'classifier' object\n",
    "#     can be used for sentiment analysis:\n",
    "\n",
    "classifier = pipeline(\"sentiment-analysis\")"
   ]
  },
  {
   "cell_type": "code",
   "execution_count": 37,
   "id": "1bde3ee8",
   "metadata": {},
   "outputs": [
    {
     "data": {
      "application/vnd.jupyter.widget-view+json": {
       "model_id": "15af840caf5b4ed1ab2cd2a8193120c8",
       "version_major": 2,
       "version_minor": 0
      },
      "text/plain": [
       "Downloading:   0%|          | 0.00/438M [00:00<?, ?B/s]"
      ]
     },
     "metadata": {},
     "output_type": "display_data"
    },
    {
     "data": {
      "application/vnd.jupyter.widget-view+json": {
       "model_id": "6a1d7c6c871049548d32f41d8729bec5",
       "version_major": 2,
       "version_minor": 0
      },
      "text/plain": [
       "Downloading:   0%|          | 0.00/540M [00:00<?, ?B/s]"
      ]
     },
     "metadata": {},
     "output_type": "display_data"
    },
    {
     "name": "stderr",
     "output_type": "stream",
     "text": [
      "All model checkpoint layers were used when initializing TFRobertaForSequenceClassification.\n",
      "\n",
      "All the layers of TFRobertaForSequenceClassification were initialized from the model checkpoint at finiteautomata/bertweet-base-sentiment-analysis.\n",
      "If your task is similar to the task the model of the checkpoint was trained on, you can already use TFRobertaForSequenceClassification for predictions without further training.\n",
      "emoji is not installed, thus not converting emoticons or emojis into text. Install emoji: pip3 install emoji==0.6.0\n"
     ]
    }
   ],
   "source": [
    "classifier1 = pipeline(\"sentiment-analysis\",\n",
    "                         model=\"ProsusAI/finbert\"\n",
    "                        )\n",
    "\n",
    "classifier2 = pipeline(\"sentiment-analysis\",\n",
    "                       model=\"finiteautomata/bertweet-base-sentiment-analysis\"\n",
    "                       )  "
   ]
  },
  {
   "cell_type": "code",
   "execution_count": 43,
   "id": "4dc529d1",
   "metadata": {},
   "outputs": [
    {
     "data": {
      "text/plain": [
       "[{'label': 'NEGATIVE', 'score': 0.9985960125923157},\n",
       " {'label': 'NEGATIVE', 'score': 0.9993351101875305},\n",
       " {'label': 'NEGATIVE', 'score': 0.74069744348526},\n",
       " {'label': 'NEGATIVE', 'score': 0.9707463979721069},\n",
       " {'label': 'POSITIVE', 'score': 0.5165928602218628},\n",
       " {'label': 'NEGATIVE', 'score': 0.996514618396759},\n",
       " {'label': 'NEGATIVE', 'score': 0.9985287189483643},\n",
       " {'label': 'POSITIVE', 'score': 0.8502520322799683},\n",
       " {'label': 'NEGATIVE', 'score': 0.9996970891952515},\n",
       " {'label': 'NEGATIVE', 'score': 0.9814749956130981},\n",
       " {'label': 'NEGATIVE', 'score': 0.9893742203712463},\n",
       " {'label': 'NEGATIVE', 'score': 0.9015430212020874},\n",
       " {'label': 'NEGATIVE', 'score': 0.9853240847587585},\n",
       " {'label': 'NEGATIVE', 'score': 0.9951744675636292},\n",
       " {'label': 'NEGATIVE', 'score': 0.9983556866645813},\n",
       " {'label': 'NEGATIVE', 'score': 0.9986783862113953},\n",
       " {'label': 'NEGATIVE', 'score': 0.9808102250099182},\n",
       " {'label': 'NEGATIVE', 'score': 0.9788484573364258},\n",
       " {'label': 'NEGATIVE', 'score': 0.9828956127166748},\n",
       " {'label': 'NEGATIVE', 'score': 0.9986937642097473},\n",
       " {'label': 'POSITIVE', 'score': 0.7140398025512695},\n",
       " {'label': 'NEGATIVE', 'score': 0.9796420335769653},\n",
       " {'label': 'NEGATIVE', 'score': 0.9728642702102661},\n",
       " {'label': 'NEGATIVE', 'score': 0.9901841282844543},\n",
       " {'label': 'NEGATIVE', 'score': 0.997478187084198},\n",
       " {'label': 'POSITIVE', 'score': 0.9950959086418152},\n",
       " {'label': 'NEGATIVE', 'score': 0.8933470845222473},\n",
       " {'label': 'NEGATIVE', 'score': 0.9937747716903687},\n",
       " {'label': 'POSITIVE', 'score': 0.994283139705658},\n",
       " {'label': 'NEGATIVE', 'score': 0.9883129000663757}]"
      ]
     },
     "execution_count": 43,
     "metadata": {},
     "output_type": "execute_result"
    }
   ],
   "source": [
    "classifier(dataset['News'][:30])\n",
    "\n"
   ]
  },
  {
   "cell_type": "markdown",
   "id": "920e211f",
   "metadata": {},
   "source": [
    "these are the reults fro  first 30 rows"
   ]
  },
  {
   "cell_type": "code",
   "execution_count": 42,
   "id": "818435c4",
   "metadata": {},
   "outputs": [
    {
     "name": "stdout",
     "output_type": "stream",
     "text": [
      "\n",
      "===========\n"
     ]
    },
    {
     "data": {
      "text/plain": [
       "[{'label': 'negative', 'score': 0.9469406008720398},\n",
       " {'label': 'negative', 'score': 0.9320139288902283},\n",
       " {'label': 'positive', 'score': 0.859070360660553},\n",
       " {'label': 'neutral', 'score': 0.9146571755409241},\n",
       " {'label': 'positive', 'score': 0.4886159896850586},\n",
       " {'label': 'positive', 'score': 0.8130480051040649},\n",
       " {'label': 'negative', 'score': 0.9616875052452087},\n",
       " {'label': 'negative', 'score': 0.9592126607894897},\n",
       " {'label': 'negative', 'score': 0.8955476880073547},\n",
       " {'label': 'positive', 'score': 0.9369417428970337},\n",
       " {'label': 'positive', 'score': 0.9310596585273743},\n",
       " {'label': 'positive', 'score': 0.5192890167236328},\n",
       " {'label': 'negative', 'score': 0.7905682921409607},\n",
       " {'label': 'neutral', 'score': 0.9177506566047668},\n",
       " {'label': 'negative', 'score': 0.9500100612640381},\n",
       " {'label': 'neutral', 'score': 0.8762447237968445},\n",
       " {'label': 'negative', 'score': 0.9495470523834229},\n",
       " {'label': 'negative', 'score': 0.9495818614959717},\n",
       " {'label': 'positive', 'score': 0.9172683358192444},\n",
       " {'label': 'negative', 'score': 0.9028403162956238},\n",
       " {'label': 'neutral', 'score': 0.907965898513794},\n",
       " {'label': 'negative', 'score': 0.5143435001373291},\n",
       " {'label': 'negative', 'score': 0.6279565691947937},\n",
       " {'label': 'neutral', 'score': 0.7530218958854675},\n",
       " {'label': 'negative', 'score': 0.9570352435112},\n",
       " {'label': 'positive', 'score': 0.9145598411560059},\n",
       " {'label': 'positive', 'score': 0.9313786625862122},\n",
       " {'label': 'negative', 'score': 0.9169173240661621},\n",
       " {'label': 'neutral', 'score': 0.6147114634513855},\n",
       " {'label': 'neutral', 'score': 0.7137188911437988}]"
      ]
     },
     "execution_count": 42,
     "metadata": {},
     "output_type": "execute_result"
    }
   ],
   "source": [
    "print(\"\\n===========\")\n",
    "classifier1(dataset['News'][:30])\n"
   ]
  },
  {
   "cell_type": "code",
   "execution_count": 46,
   "id": "5239ecc7",
   "metadata": {},
   "outputs": [
    {
     "name": "stdout",
     "output_type": "stream",
     "text": [
      "\n",
      "===========\n"
     ]
    },
    {
     "data": {
      "text/plain": [
       "[{'label': 'NEU', 'score': 0.8723764419555664},\n",
       " {'label': 'NEG', 'score': 0.9279873967170715},\n",
       " {'label': 'NEU', 'score': 0.8729678392410278},\n",
       " {'label': 'NEU', 'score': 0.9549843072891235},\n",
       " {'label': 'NEU', 'score': 0.8653851747512817},\n",
       " {'label': 'NEU', 'score': 0.9615368247032166},\n",
       " {'label': 'NEG', 'score': 0.52312171459198},\n",
       " {'label': 'NEU', 'score': 0.8821362257003784},\n",
       " {'label': 'NEU', 'score': 0.7776761054992676},\n",
       " {'label': 'NEU', 'score': 0.9539522528648376}]"
      ]
     },
     "execution_count": 46,
     "metadata": {},
     "output_type": "execute_result"
    }
   ],
   "source": [
    "print(\"\\n===========\")\n",
    "classifier2(dataset['News'][:10])"
   ]
  },
  {
   "cell_type": "markdown",
   "id": "83397c13",
   "metadata": {},
   "source": [
    "result of first 10 rows using classifier 2"
   ]
  },
  {
   "cell_type": "markdown",
   "id": "97c575d4",
   "metadata": {},
   "source": [
    "# Question Answer "
   ]
  },
  {
   "cell_type": "code",
   "execution_count": 50,
   "id": "f4451907",
   "metadata": {},
   "outputs": [
    {
     "name": "stderr",
     "output_type": "stream",
     "text": [
      "No model was supplied, defaulted to distilbert-base-cased-distilled-squad and revision 626af31 (https://huggingface.co/distilbert-base-cased-distilled-squad).\n",
      "Using a pipeline without specifying a model name and revision in production is not recommended.\n"
     ]
    },
    {
     "data": {
      "application/vnd.jupyter.widget-view+json": {
       "model_id": "2fe39e22e94045e6a4a8b2150b05156d",
       "version_major": 2,
       "version_minor": 0
      },
      "text/plain": [
       "Downloading:   0%|          | 0.00/261M [00:00<?, ?B/s]"
      ]
     },
     "metadata": {},
     "output_type": "display_data"
    },
    {
     "data": {
      "application/vnd.jupyter.widget-view+json": {
       "model_id": "ba87a873cb1043b9923b88445b603c44",
       "version_major": 2,
       "version_minor": 0
      },
      "text/plain": [
       "Downloading:   0%|          | 0.00/29.0 [00:00<?, ?B/s]"
      ]
     },
     "metadata": {},
     "output_type": "display_data"
    },
    {
     "data": {
      "application/vnd.jupyter.widget-view+json": {
       "model_id": "7dd956a6cb5e4db999f496367b7bc816",
       "version_major": 2,
       "version_minor": 0
      },
      "text/plain": [
       "Downloading:   0%|          | 0.00/213k [00:00<?, ?B/s]"
      ]
     },
     "metadata": {},
     "output_type": "display_data"
    },
    {
     "data": {
      "application/vnd.jupyter.widget-view+json": {
       "model_id": "e9a9a582c79b43899fce66218488483f",
       "version_major": 2,
       "version_minor": 0
      },
      "text/plain": [
       "Downloading:   0%|          | 0.00/436k [00:00<?, ?B/s]"
      ]
     },
     "metadata": {},
     "output_type": "display_data"
    }
   ],
   "source": [
    "# 8.0 Instantiate question-answer object:\n",
    "\n",
    "question_answerer = pipeline(\"question-answering\")"
   ]
  },
  {
   "cell_type": "code",
   "execution_count": 70,
   "id": "632c0d03",
   "metadata": {},
   "outputs": [
    {
     "data": {
      "text/plain": [
       "{'score': 0.8890417218208313, 'start': 16, 'end': 18, 'answer': '20'}"
      ]
     },
     "execution_count": 70,
     "metadata": {},
     "output_type": "execute_result"
    }
   ],
   "source": [
    "question_answerer(\n",
    "    question= \"april gold down by how many cents?\",\n",
    "    context= \"april gold down 20 cents to settle at $1,116.10/oz\"\n",
    ")\n",
    "     "
   ]
  },
  {
   "cell_type": "markdown",
   "id": "0dcc7a56",
   "metadata": {},
   "source": [
    "# Summarize text"
   ]
  },
  {
   "cell_type": "code",
   "execution_count": 58,
   "id": "a95ffceb",
   "metadata": {},
   "outputs": [
    {
     "name": "stderr",
     "output_type": "stream",
     "text": [
      "No model was supplied, defaulted to sshleifer/distilbart-cnn-12-6 and revision a4f8f3e (https://huggingface.co/sshleifer/distilbart-cnn-12-6).\n",
      "Using a pipeline without specifying a model name and revision in production is not recommended.\n"
     ]
    },
    {
     "data": {
      "application/vnd.jupyter.widget-view+json": {
       "model_id": "1ee19d5be9524953afbf73b7b7ea3bcd",
       "version_major": 2,
       "version_minor": 0
      },
      "text/plain": [
       "Downloading:   0%|          | 0.00/1.80k [00:00<?, ?B/s]"
      ]
     },
     "metadata": {},
     "output_type": "display_data"
    },
    {
     "data": {
      "application/vnd.jupyter.widget-view+json": {
       "model_id": "1670dc2fdeee4bf7b01f4024ca6e38b2",
       "version_major": 2,
       "version_minor": 0
      },
      "text/plain": [
       "Downloading:   0%|          | 0.00/1.22G [00:00<?, ?B/s]"
      ]
     },
     "metadata": {},
     "output_type": "display_data"
    },
    {
     "data": {
      "application/vnd.jupyter.widget-view+json": {
       "model_id": "de0c49e6a7064bfbb9182ea71845fbdc",
       "version_major": 2,
       "version_minor": 0
      },
      "text/plain": [
       "Downloading:   0%|          | 0.00/1.22G [00:00<?, ?B/s]"
      ]
     },
     "metadata": {},
     "output_type": "display_data"
    },
    {
     "data": {
      "application/vnd.jupyter.widget-view+json": {
       "model_id": "d3897728f57843e9b0d98f244f2232a2",
       "version_major": 2,
       "version_minor": 0
      },
      "text/plain": [
       "Downloading:   0%|          | 0.00/26.0 [00:00<?, ?B/s]"
      ]
     },
     "metadata": {},
     "output_type": "display_data"
    },
    {
     "data": {
      "application/vnd.jupyter.widget-view+json": {
       "model_id": "08fcc0413efb42e5a6d4e0852115cc12",
       "version_major": 2,
       "version_minor": 0
      },
      "text/plain": [
       "Downloading:   0%|          | 0.00/899k [00:00<?, ?B/s]"
      ]
     },
     "metadata": {},
     "output_type": "display_data"
    },
    {
     "data": {
      "application/vnd.jupyter.widget-view+json": {
       "model_id": "fbf308221970402796a29c22e15cb251",
       "version_major": 2,
       "version_minor": 0
      },
      "text/plain": [
       "Downloading:   0%|          | 0.00/456k [00:00<?, ?B/s]"
      ]
     },
     "metadata": {},
     "output_type": "display_data"
    }
   ],
   "source": [
    "# 9.0 Create text summarize object:\n",
    " \n",
    "summarizer = pipeline(\"summarization\")\n",
    "     "
   ]
  },
  {
   "cell_type": "code",
   "execution_count": 63,
   "id": "4f90c890",
   "metadata": {},
   "outputs": [
    {
     "name": "stderr",
     "output_type": "stream",
     "text": [
      "Your max_length is set to 142, but you input_length is only 19. You might consider decreasing max_length manually, e.g. summarizer('...', max_length=9)\n",
      "Your max_length is set to 142, but you input_length is only 8. You might consider decreasing max_length manually, e.g. summarizer('...', max_length=4)\n",
      "Your max_length is set to 142, but you input_length is only 11. You might consider decreasing max_length manually, e.g. summarizer('...', max_length=5)\n",
      "Your max_length is set to 142, but you input_length is only 15. You might consider decreasing max_length manually, e.g. summarizer('...', max_length=7)\n",
      "Your max_length is set to 142, but you input_length is only 18. You might consider decreasing max_length manually, e.g. summarizer('...', max_length=9)\n"
     ]
    },
    {
     "data": {
      "text/plain": [
       "[{'summary_text': \" April gold down 20 cents to settle at $1,116.10/oz . april gold down . cents to . settle at .1,000/oz. april . April's gold market was down by 20 cents, down from April 1 to April 2 .\"},\n",
       " {'summary_text': ' Gold has third straight daily decline in the value of its precious metal . The value of the precious metal has declined by more than a half a trillion since the fall of 2008 . The market value of gold drops to $1.2 billion a day in value, down 0.2 per cent .'},\n",
       " {'summary_text': \" Gold futures edge up after two-session decline . Gold futures close to $1,000 a day higher than Tuesday's close to the close of the week . The market has seen a decline in gold futures prices since the start of the year . The price of gold futures futures fell to $2,500 a day on Tuesday .\"},\n",
       " {'summary_text': \" dent research : is gold's day in the sun coming soon? D. dent research: Is gold's future on the rise? The world's best-selling book, Gold, is published in the U.S. Museum of Gold, the world's oldest book, has been published by the Smithsonian Institution .\"},\n",
       " {'summary_text': ' Gold snaps three-day rally as Trump, lawmakers reach debt-ceiling deal . Gold is seen as a safe haven for investors in the U.S. Treasury, Treasury and Treasury . Gold prices have slumped to $2.2 trillion in value since the fall of 2008 .'}]"
      ]
     },
     "execution_count": 63,
     "metadata": {},
     "output_type": "execute_result"
    }
   ],
   "source": [
    "summarizer(dataset['News'][:5])"
   ]
  },
  {
   "cell_type": "markdown",
   "id": "82da1adb",
   "metadata": {},
   "source": [
    "# Text generation"
   ]
  },
  {
   "cell_type": "code",
   "execution_count": 64,
   "id": "4d90529a",
   "metadata": {},
   "outputs": [
    {
     "data": {
      "application/vnd.jupyter.widget-view+json": {
       "model_id": "c4bff9cec1694817a01d23a8f4055458",
       "version_major": 2,
       "version_minor": 0
      },
      "text/plain": [
       "Downloading:   0%|          | 0.00/665 [00:00<?, ?B/s]"
      ]
     },
     "metadata": {},
     "output_type": "display_data"
    },
    {
     "data": {
      "application/vnd.jupyter.widget-view+json": {
       "model_id": "28e590068b6c459cb6418998af383fa4",
       "version_major": 2,
       "version_minor": 0
      },
      "text/plain": [
       "Downloading:   0%|          | 0.00/548M [00:00<?, ?B/s]"
      ]
     },
     "metadata": {},
     "output_type": "display_data"
    },
    {
     "data": {
      "application/vnd.jupyter.widget-view+json": {
       "model_id": "bbb6ead9d7924647a0cdc844f39c1003",
       "version_major": 2,
       "version_minor": 0
      },
      "text/plain": [
       "Downloading:   0%|          | 0.00/1.04M [00:00<?, ?B/s]"
      ]
     },
     "metadata": {},
     "output_type": "display_data"
    },
    {
     "data": {
      "application/vnd.jupyter.widget-view+json": {
       "model_id": "1c58e58d0105453181b65c1594d1acac",
       "version_major": 2,
       "version_minor": 0
      },
      "text/plain": [
       "Downloading:   0%|          | 0.00/456k [00:00<?, ?B/s]"
      ]
     },
     "metadata": {},
     "output_type": "display_data"
    },
    {
     "data": {
      "application/vnd.jupyter.widget-view+json": {
       "model_id": "f286589b56644897a497c61422866ec2",
       "version_major": 2,
       "version_minor": 0
      },
      "text/plain": [
       "Downloading:   0%|          | 0.00/1.36M [00:00<?, ?B/s]"
      ]
     },
     "metadata": {},
     "output_type": "display_data"
    }
   ],
   "source": [
    "\n",
    "# 10.0 Text generation pipeline:\n",
    "generator = pipeline('text-generation', model = 'gpt2')\n"
   ]
  },
  {
   "cell_type": "code",
   "execution_count": 71,
   "id": "528d9333",
   "metadata": {},
   "outputs": [
    {
     "name": "stderr",
     "output_type": "stream",
     "text": [
      "Setting `pad_token_id` to `eos_token_id`:50256 for open-end generation.\n",
      "Setting `pad_token_id` to `eos_token_id`:50256 for open-end generation.\n",
      "Setting `pad_token_id` to `eos_token_id`:50256 for open-end generation.\n",
      "Setting `pad_token_id` to `eos_token_id`:50256 for open-end generation.\n",
      "Setting `pad_token_id` to `eos_token_id`:50256 for open-end generation.\n"
     ]
    },
    {
     "data": {
      "text/plain": [
       "[[{'generated_text': 'april gold down 20 cents to settle at $1,116.10/oz.\\n\\nFor the second consecutive year, the price of gold'},\n",
       "  {'generated_text': 'april gold down 20 cents to settle at $1,116.10/oz and are now $29.95 and $30.85/'},\n",
       "  {'generated_text': 'april gold down 20 cents to settle at $1,116.10/oz. to $10,080.35 each.\\n\\nT'}],\n",
       " [{'generated_text': \"gold suffers third straight daily decline over the past 10 (including yesterday's 3-game win over the Rangers on Saturday and Wednesday's 1-2 home\"},\n",
       "  {'generated_text': 'gold suffers third straight daily decline.\\n\\nThe team said it would need to use an online data analytics company this fall to \"detect whether players'},\n",
       "  {'generated_text': 'gold suffers third straight daily decline.\\n\\nLosses over the past two weeks, however, have been modest. The market has a new benchmark'}],\n",
       " [{'generated_text': 'Gold futures edge up after two-session decline on the S&P 500. (Alex Brandon/Reuters)\\n\\nFor a brief moment — a'},\n",
       "  {'generated_text': \"Gold futures edge up after two-session decline\\n\\nCitigroup: Wall Street is 'overwhelmed' by recent price moves due to US\"},\n",
       "  {'generated_text': 'Gold futures edge up after two-session decline on Friday.\\n\\nThe futures, based on FXE Allotments, fell 3.8%,'}],\n",
       " [{'generated_text': \"dent research : is gold's day in the sun coming soon? One question is also raised now that the U.S. is set to make\"},\n",
       "  {'generated_text': \"dent research : is gold's day in the sun coming soon?\\n\\n: is gold's day in the sun coming soon? Health: Does\"},\n",
       "  {'generated_text': \"dent research : is gold's day in the sun coming soon?\\n\\n\\nCancer treatment and cancer\\n\\nThe British medical establishment is at war\"}],\n",
       " [{'generated_text': 'Gold snaps three-day rally as Trump, lawmakers reach debt-ceiling deal\\n\\nFears of a financial crisis have led lawmakers and some Republicans'},\n",
       "  {'generated_text': 'Gold snaps three-day rally as Trump, lawmakers reach debt-ceiling deal\\n\\nBy JEFF GRANKLINGER\\n\\nHUFF'},\n",
       "  {'generated_text': 'Gold snaps three-day rally as Trump, lawmakers reach debt-ceiling deal on nuclear deal\\n\\nThe Trump tax plan was put on the defensive'}]]"
      ]
     },
     "execution_count": 71,
     "metadata": {},
     "output_type": "execute_result"
    }
   ],
   "source": [
    "# 10.1 Generate text\n",
    "generator(dataset['News'][:5], max_length = 30, num_return_sequences=3)"
   ]
  },
  {
   "cell_type": "code",
   "execution_count": null,
   "id": "50a53cb6",
   "metadata": {},
   "outputs": [],
   "source": []
  }
 ],
 "metadata": {
  "kernelspec": {
   "display_name": "Python 3 (ipykernel)",
   "language": "python",
   "name": "python3"
  },
  "language_info": {
   "codemirror_mode": {
    "name": "ipython",
    "version": 3
   },
   "file_extension": ".py",
   "mimetype": "text/x-python",
   "name": "python",
   "nbconvert_exporter": "python",
   "pygments_lexer": "ipython3",
   "version": "3.9.13"
  }
 },
 "nbformat": 4,
 "nbformat_minor": 5
}
